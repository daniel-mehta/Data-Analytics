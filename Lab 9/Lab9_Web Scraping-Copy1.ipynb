{
 "cells": [
  {
   "cell_type": "markdown",
   "id": "484dd905-b151-474e-8c14-e1c5abdba45b",
   "metadata": {},
   "source": [
    "# Daniel Mehta"
   ]
  },
  {
   "cell_type": "code",
   "execution_count": 1,
   "id": "fda8e936",
   "metadata": {},
   "outputs": [],
   "source": [
    "import requests\n",
    "from bs4 import BeautifulSoup\n",
    "import pandas as pd\n",
    "\n"
   ]
  },
  {
   "cell_type": "code",
   "execution_count": null,
   "id": "f286a532",
   "metadata": {},
   "outputs": [],
   "source": [
    "#Imports the HTML into python\n",
    "url = 'https://www.nfl.com/standings/league/2019/reg/'\n",
    "\n"
   ]
  },
  {
   "cell_type": "code",
   "execution_count": null,
   "id": "a3063707",
   "metadata": {},
   "outputs": [],
   "source": []
  },
  {
   "cell_type": "code",
   "execution_count": null,
   "id": "dee8191e",
   "metadata": {},
   "outputs": [],
   "source": [
    "#Subsets the HTML to only get the HTML of our table needed\n"
   ]
  },
  {
   "cell_type": "code",
   "execution_count": null,
   "id": "99e04c56",
   "metadata": {},
   "outputs": [],
   "source": []
  },
  {
   "cell_type": "code",
   "execution_count": null,
   "id": "7798cc4c",
   "metadata": {},
   "outputs": [],
   "source": [
    "#Gets all the column headers of our table\n",
    "\n"
   ]
  },
  {
   "cell_type": "code",
   "execution_count": null,
   "id": "08230632",
   "metadata": {},
   "outputs": [],
   "source": []
  },
  {
   "cell_type": "code",
   "execution_count": null,
   "id": "b1251bc2",
   "metadata": {},
   "outputs": [],
   "source": [
    "#Creates a dataframe using the column headers from our table\n"
   ]
  },
  {
   "cell_type": "code",
   "execution_count": null,
   "id": "e1cf7bb8",
   "metadata": {},
   "outputs": [],
   "source": []
  },
  {
   "cell_type": "code",
   "execution_count": null,
   "id": "12d531fd",
   "metadata": {},
   "outputs": [],
   "source": [
    "#gets all our data within the table and adds it to our dataframe\n"
   ]
  },
  {
   "cell_type": "code",
   "execution_count": null,
   "id": "9dd45db7",
   "metadata": {},
   "outputs": [],
   "source": []
  }
 ],
 "metadata": {
  "kernelspec": {
   "display_name": "Python 3 (ipykernel)",
   "language": "python",
   "name": "python3"
  },
  "language_info": {
   "codemirror_mode": {
    "name": "ipython",
    "version": 3
   },
   "file_extension": ".py",
   "mimetype": "text/x-python",
   "name": "python",
   "nbconvert_exporter": "python",
   "pygments_lexer": "ipython3",
   "version": "3.8.5"
  }
 },
 "nbformat": 4,
 "nbformat_minor": 5
}
