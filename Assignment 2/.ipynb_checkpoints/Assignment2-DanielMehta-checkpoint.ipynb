{
 "cells": [
  {
   "cell_type": "markdown",
   "id": "4613e079-4297-45d7-a16b-86de4620f882",
   "metadata": {},
   "source": [
    "## Analyza Startup_funding dataset and answer all the following questions:\n",
    "### Daniel Mehta\n",
    "\n",
    "1 **How Does the Funding Ecosystem changes with respect to Time?**\n",
    "\n",
    "2 **What is the General Amount that Startups get in India?**\n",
    "\n",
    "3 **Which Kind of Industries are more preferred for Startups?**\n",
    "\n",
    "4 **Does Location also play a role, In determining the Growth of a Startup?**\n",
    "\n",
    "5 **Who plays the main role in Indian Startups Ecosystem?**\n",
    "\n",
    "6 **What are the different Types of Funding for Startups?**"
   ]
  },
  {
   "cell_type": "code",
   "execution_count": null,
   "id": "cc7301cf-77fe-47b1-b617-0bf6dc27170b",
   "metadata": {},
   "outputs": [],
   "source": []
  }
 ],
 "metadata": {
  "kernelspec": {
   "display_name": "Python 3 (ipykernel)",
   "language": "python",
   "name": "python3"
  },
  "language_info": {
   "codemirror_mode": {
    "name": "ipython",
    "version": 3
   },
   "file_extension": ".py",
   "mimetype": "text/x-python",
   "name": "python",
   "nbconvert_exporter": "python",
   "pygments_lexer": "ipython3",
   "version": "3.8.5"
  }
 },
 "nbformat": 4,
 "nbformat_minor": 5
}
