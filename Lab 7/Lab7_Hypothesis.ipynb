{
 "cells": [
  {
   "cell_type": "markdown",
   "id": "08cbeeb2",
   "metadata": {},
   "source": [
    "# Lab7-Hypothesis Testion"
   ]
  },
  {
   "cell_type": "markdown",
   "id": "c80f35b6",
   "metadata": {},
   "source": [
    "Choose the best Test and apply."
   ]
  },
  {
   "cell_type": "code",
   "execution_count": 1,
   "id": "22b0314d-5001-47b3-845b-3bd4e26b79b9",
   "metadata": {},
   "outputs": [],
   "source": [
    "from scipy import stats\n",
    "import numpy as np"
   ]
  },
  {
   "cell_type": "markdown",
   "id": "591c8142",
   "metadata": {},
   "source": [
    "### Question1:"
   ]
  },
  {
   "cell_type": "markdown",
   "id": "a4bcb0d8",
   "metadata": {},
   "source": [
    "suppose we want to know whether or not the mean weight of a certain species of some turtle is equal to 310 pounds.\n",
    "\n",
    "To test this, we go out and collect a simple random sample of turtles with the following weights:\n",
    "\n",
    "Weights: 300, 315, 320, 311, 314, 309, 300, 308, 305, 303, 305, 301, 303"
   ]
  },
  {
   "cell_type": "code",
   "execution_count": 5,
   "id": "a19789c0",
   "metadata": {},
   "outputs": [
    {
     "name": "stdout",
     "output_type": "stream",
     "text": [
      "T-Statistic: -1.5848\n",
      "P-Value: 0.1390\n",
      "We can accept the null hypothesis\n"
     ]
    }
   ],
   "source": [
    "turtle_weight_sample = np.array([300, 315, 320, 311, 314, 309, 300, 308, 305, 303, 305, 301, 303])\n",
    "hypotheses = 310\n",
    "\n",
    "t_statistic, p_value = stats.ttest_1samp(turtle_weight_sample, hypotheses)\n",
    "\n",
    "print(f\"T-Statistic: {t_statistic:.4f}\")\n",
    "print(f\"P-Value: {p_value:.4f}\")\n",
    "\n",
    "alpha = 0.05\n",
    "if p_value < alpha:\n",
    "    print(\"We can reject the null hypothesis\")  \n",
    "else:  \n",
    "    print(\"We can accept the null hypothesis\")  "
   ]
  },
  {
   "cell_type": "markdown",
   "id": "e79e1264",
   "metadata": {},
   "source": [
    "### Question2:"
   ]
  },
  {
   "cell_type": "markdown",
   "id": "e5619c13",
   "metadata": {},
   "source": [
    "suppose we want to know whether or not the mean weight between two different species of turtles is equal.\n",
    "\n",
    "To test this, we collect a simple random sample of turtles from each species with the following weights:\n",
    "\n",
    "Sample 1: 300, 315, 320, 311, 314, 309, 300, 308, 305, 303, 305, 301, 303\n",
    "\n",
    "Sample 2: 335, 329, 322, 321, 324, 319, 304, 308, 305, 311, 307, 300, 305"
   ]
  },
  {
   "cell_type": "code",
   "execution_count": null,
   "id": "43de4628",
   "metadata": {},
   "outputs": [],
   "source": []
  },
  {
   "cell_type": "markdown",
   "id": "f26bd8c8",
   "metadata": {},
   "source": [
    "### Question3:\n"
   ]
  },
  {
   "cell_type": "markdown",
   "id": "e3982a1b",
   "metadata": {},
   "source": [
    "suppose we want to know whether or not a certain training program is able to increase the max vertical jump (in inches) of basketball players."
   ]
  },
  {
   "cell_type": "markdown",
   "id": "077d598f",
   "metadata": {},
   "source": [
    "The following data shows the max jump height (in inches) before and after using the training program for each player:\n",
    "\n",
    "Before: 22, 24, 20, 19, 19, 20, 22, 25, 24, 23, 22, 21\n",
    "\n",
    "After: 23, 25, 20, 24, 18, 22, 23, 28, 24, 25, 24, 20"
   ]
  },
  {
   "cell_type": "code",
   "execution_count": null,
   "id": "4224b2cf",
   "metadata": {},
   "outputs": [],
   "source": []
  }
 ],
 "metadata": {
  "kernelspec": {
   "display_name": "Python 3 (ipykernel)",
   "language": "python",
   "name": "python3"
  },
  "language_info": {
   "codemirror_mode": {
    "name": "ipython",
    "version": 3
   },
   "file_extension": ".py",
   "mimetype": "text/x-python",
   "name": "python",
   "nbconvert_exporter": "python",
   "pygments_lexer": "ipython3",
   "version": "3.8.5"
  }
 },
 "nbformat": 4,
 "nbformat_minor": 5
}
