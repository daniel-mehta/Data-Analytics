{
 "cells": [
  {
   "cell_type": "markdown",
   "id": "e8e08b5d-8c8a-41f0-a48b-f94432318020",
   "metadata": {},
   "source": [
    "## Assignment 1\n",
    "### Daniel Mehta"
   ]
  },
  {
   "cell_type": "markdown",
   "id": "c9becb3b-911d-45c0-bdae-ff79a43a78f7",
   "metadata": {},
   "source": [
    "## Question 1"
   ]
  },
  {
   "cell_type": "code",
   "execution_count": 4,
   "id": "fc7143e7-3645-4633-9a65-992ae148d2de",
   "metadata": {},
   "outputs": [],
   "source": [
    "import pandas as pd\n",
    "import numpy as np"
   ]
  },
  {
   "cell_type": "markdown",
   "id": "b4226629-a6c1-41fb-a773-df276532ed95",
   "metadata": {},
   "source": [
    "## Question 2"
   ]
  },
  {
   "cell_type": "code",
   "execution_count": 7,
   "id": "87023651-7b2d-4650-a65a-3d171f6627d9",
   "metadata": {},
   "outputs": [],
   "source": [
    "import seaborn as sns\n",
    "import matplotlib.pyplot as plt\n",
    "%matplotlib inline"
   ]
  },
  {
   "cell_type": "code",
   "execution_count": null,
   "id": "40ddae8d-f12f-4a21-b381-6ad7b1c92abb",
   "metadata": {},
   "outputs": [],
   "source": []
  }
 ],
 "metadata": {
  "kernelspec": {
   "display_name": "Python [conda env:base] *",
   "language": "python",
   "name": "conda-base-py"
  },
  "language_info": {
   "codemirror_mode": {
    "name": "ipython",
    "version": 3
   },
   "file_extension": ".py",
   "mimetype": "text/x-python",
   "name": "python",
   "nbconvert_exporter": "python",
   "pygments_lexer": "ipython3",
   "version": "3.12.7"
  }
 },
 "nbformat": 4,
 "nbformat_minor": 5
}
