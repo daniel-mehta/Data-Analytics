{
 "cells": [
  {
   "cell_type": "markdown",
   "id": "b495d579",
   "metadata": {},
   "source": [
    "# Lab 8:Advance Chart"
   ]
  },
  {
   "cell_type": "markdown",
   "id": "ad98d271",
   "metadata": {},
   "source": [
    "1.\tAnalyze and Plot your Geographical information of 911 dataset.\n"
   ]
  },
  {
   "cell_type": "code",
   "execution_count": null,
   "id": "76ba2afc",
   "metadata": {},
   "outputs": [],
   "source": []
  },
  {
   "cell_type": "markdown",
   "id": "9ff2da5f",
   "metadata": {},
   "source": [
    "2.\tAnalyze the wine dataset and present your analysis with an advanced chart (parallel coordinate chart, Ternary chart or sunburst chat).\n"
   ]
  },
  {
   "cell_type": "code",
   "execution_count": null,
   "id": "c03ba723",
   "metadata": {},
   "outputs": [],
   "source": []
  }
 ],
 "metadata": {
  "kernelspec": {
   "display_name": "Python 3 (ipykernel)",
   "language": "python",
   "name": "python3"
  },
  "language_info": {
   "codemirror_mode": {
    "name": "ipython",
    "version": 3
   },
   "file_extension": ".py",
   "mimetype": "text/x-python",
   "name": "python",
   "nbconvert_exporter": "python",
   "pygments_lexer": "ipython3",
   "version": "3.11.5"
  }
 },
 "nbformat": 4,
 "nbformat_minor": 5
}
