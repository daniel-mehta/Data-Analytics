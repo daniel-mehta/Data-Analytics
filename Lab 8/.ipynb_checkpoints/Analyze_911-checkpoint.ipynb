{
 "cells": [
  {
   "cell_type": "markdown",
   "metadata": {},
   "source": [
    "\n",
    "\n",
    "# 911 Calls Dataset"
   ]
  },
  {
   "cell_type": "markdown",
   "metadata": {},
   "source": [
    "analyzing some 911 call data from [Kaggle](https://www.kaggle.com/mchirico/montcoalert).\n",
    "The data contains the following fields:\n",
    "\n",
    "* lat : String variable, Latitude\n",
    "* lng: String variable, Longitude\n",
    "* desc: String variable, Description of the Emergency Call\n",
    "* zip: String variable, Zipcode\n",
    "* title: String variable, Title\n",
    "* timeStamp: String variable, YYYY-MM-DD HH:MM:SS\n",
    "* twp: String variable, Township\n",
    "* addr: String variable, Address\n",
    "* e: String variable, Dummy variable (always 1)\n",
    "\n"
   ]
  },
  {
   "cell_type": "markdown",
   "metadata": {},
   "source": [
    "## Data and Setup"
   ]
  },
  {
   "cell_type": "markdown",
   "metadata": {},
   "source": [
    "____\n",
    "** Import numpy and pandas **"
   ]
  },
  {
   "cell_type": "code",
   "execution_count": 1,
   "metadata": {},
   "outputs": [],
   "source": [
    "import numpy as np\n",
    "import pandas as pd"
   ]
  },
  {
   "cell_type": "markdown",
   "metadata": {},
   "source": [
    "** Import visualization libraries and set %matplotlib inline. **"
   ]
  },
  {
   "cell_type": "code",
   "execution_count": 2,
   "metadata": {},
   "outputs": [],
   "source": [
    "import matplotlib.pyplot as plt\n",
    "import seaborn as sns\n",
    "%matplotlib inline\n"
   ]
  },
  {
   "cell_type": "markdown",
   "metadata": {},
   "source": [
    "** Read in the csv file as a dataframe called df **"
   ]
  },
  {
   "cell_type": "code",
   "execution_count": 4,
   "metadata": {},
   "outputs": [],
   "source": [
    "df = pd.read_csv(\"911.csv\")"
   ]
  },
  {
   "cell_type": "markdown",
   "metadata": {},
   "source": [
    "** Check the info() of the df **"
   ]
  },
  {
   "cell_type": "code",
   "execution_count": 5,
   "metadata": {},
   "outputs": [
    {
     "name": "stdout",
     "output_type": "stream",
     "text": [
      "<class 'pandas.core.frame.DataFrame'>\n",
      "RangeIndex: 663522 entries, 0 to 663521\n",
      "Data columns (total 9 columns):\n",
      " #   Column     Non-Null Count   Dtype  \n",
      "---  ------     --------------   -----  \n",
      " 0   lat        663522 non-null  float64\n",
      " 1   lng        663522 non-null  float64\n",
      " 2   desc       663522 non-null  object \n",
      " 3   zip        583323 non-null  float64\n",
      " 4   title      663522 non-null  object \n",
      " 5   timeStamp  663522 non-null  object \n",
      " 6   twp        663229 non-null  object \n",
      " 7   addr       663522 non-null  object \n",
      " 8   e          663522 non-null  int64  \n",
      "dtypes: float64(3), int64(1), object(5)\n",
      "memory usage: 45.6+ MB\n"
     ]
    }
   ],
   "source": [
    "df.info()"
   ]
  },
  {
   "cell_type": "markdown",
   "metadata": {},
   "source": [
    "# Questions"
   ]
  },
  {
   "cell_type": "markdown",
   "metadata": {},
   "source": [
    " 1. What are the top 5 zipcodes for 911 calls?\n",
    " 2. What are the top 5 townships (twp) for 911 calls?  \n",
    " 3. how many unique title codes are there?\n",
    " 4. What are the reasons people called for?\n",
    " 5. compare reasons people called based on day, month?"
   ]
  },
  {
   "cell_type": "markdown",
   "metadata": {},
   "source": [
    "## Basic Questions"
   ]
  },
  {
   "cell_type": "markdown",
   "metadata": {},
   "source": [
    "** What are the top 5 zipcodes for 911 calls? **"
   ]
  },
  {
   "cell_type": "code",
   "execution_count": 11,
   "metadata": {},
   "outputs": [],
   "source": [
    "top_5_zip = df['zip'].value_counts().head(5)"
   ]
  },
  {
   "cell_type": "code",
   "execution_count": 12,
   "metadata": {},
   "outputs": [
    {
     "data": {
      "text/plain": [
       "zip\n",
       "19401.0    45606\n",
       "19464.0    43910\n",
       "19403.0    34888\n",
       "19446.0    32270\n",
       "19406.0    22464\n",
       "Name: count, dtype: int64"
      ]
     },
     "execution_count": 12,
     "metadata": {},
     "output_type": "execute_result"
    }
   ],
   "source": [
    "top_5_zip"
   ]
  },
  {
   "cell_type": "markdown",
   "metadata": {},
   "source": [
    "** What are the top 5 townships (twp) for 911 calls? **"
   ]
  },
  {
   "cell_type": "code",
   "execution_count": 13,
   "metadata": {},
   "outputs": [
    {
     "data": {
      "text/plain": [
       "twp\n",
       "LOWER MERION    55490\n",
       "ABINGTON        39947\n",
       "NORRISTOWN      37633\n",
       "UPPER MERION    36010\n",
       "CHELTENHAM      30574\n",
       "Name: count, dtype: int64"
      ]
     },
     "execution_count": 13,
     "metadata": {},
     "output_type": "execute_result"
    }
   ],
   "source": [
    "top_5_twp =df['twp'].value_counts().head(5)\n",
    "top_5_twp"
   ]
  },
  {
   "cell_type": "markdown",
   "metadata": {},
   "source": [
    "** Take a look at the 'title' column, how many unique title codes are there? **"
   ]
  },
  {
   "cell_type": "code",
   "execution_count": 14,
   "metadata": {},
   "outputs": [
    {
     "data": {
      "text/plain": [
       "148"
      ]
     },
     "execution_count": 14,
     "metadata": {},
     "output_type": "execute_result"
    }
   ],
   "source": [
    "unique_title_codes = df['title'].nunique()\n",
    "unique_title_codes"
   ]
  },
  {
   "cell_type": "code",
   "execution_count": 21,
   "metadata": {},
   "outputs": [
    {
     "name": "stdout",
     "output_type": "stream",
     "text": [
      "Top Reasons People Called:\n",
      "\n",
      "title\n",
      "Traffic: VEHICLE ACCIDENT -    148372\n",
      "Traffic: DISABLED VEHICLE -     47909\n",
      "Fire: FIRE ALARM                38336\n",
      "EMS: FALL VICTIM                34676\n",
      "EMS: RESPIRATORY EMERGENCY      34248\n",
      "Name: count, dtype: int64\n"
     ]
    }
   ],
   "source": [
    "# What are the reasons people called for?\n",
    "top_5_reasons = df['title'].value_counts().head(5)\n",
    "print(\"Top Reasons People Called:\\n\")\n",
    "print(top_5_reasons)"
   ]
  },
  {
   "cell_type": "code",
   "execution_count": 34,
   "metadata": {},
   "outputs": [
    {
     "name": "stdout",
     "output_type": "stream",
     "text": [
      "Top Reason Per Day:\n",
      "1: Traffic: VEHICLE ACCIDENT -\n",
      "2: Traffic: VEHICLE ACCIDENT -\n",
      "3: Traffic: VEHICLE ACCIDENT -\n",
      "4: Traffic: VEHICLE ACCIDENT -\n",
      "5: Traffic: VEHICLE ACCIDENT -\n",
      "6: Traffic: VEHICLE ACCIDENT -\n",
      "7: Traffic: VEHICLE ACCIDENT -\n",
      "8: Traffic: VEHICLE ACCIDENT -\n",
      "9: Traffic: VEHICLE ACCIDENT -\n",
      "10: Traffic: VEHICLE ACCIDENT -\n",
      "11: Traffic: VEHICLE ACCIDENT -\n",
      "12: Traffic: VEHICLE ACCIDENT -\n",
      "13: Traffic: VEHICLE ACCIDENT -\n",
      "14: Traffic: VEHICLE ACCIDENT -\n",
      "15: Traffic: VEHICLE ACCIDENT -\n",
      "16: Traffic: VEHICLE ACCIDENT -\n",
      "17: Traffic: VEHICLE ACCIDENT -\n",
      "18: Traffic: VEHICLE ACCIDENT -\n",
      "19: Traffic: VEHICLE ACCIDENT -\n",
      "20: Traffic: VEHICLE ACCIDENT -\n",
      "21: Traffic: VEHICLE ACCIDENT -\n",
      "22: Traffic: VEHICLE ACCIDENT -\n",
      "23: Traffic: VEHICLE ACCIDENT -\n",
      "24: Traffic: VEHICLE ACCIDENT -\n",
      "25: Traffic: VEHICLE ACCIDENT -\n",
      "26: Traffic: VEHICLE ACCIDENT -\n",
      "27: Traffic: VEHICLE ACCIDENT -\n",
      "28: Traffic: VEHICLE ACCIDENT -\n",
      "29: Traffic: VEHICLE ACCIDENT -\n",
      "30: Traffic: VEHICLE ACCIDENT -\n",
      "31: Traffic: VEHICLE ACCIDENT -\n",
      "\n",
      "Top Reason Per Month:\n",
      "1: Traffic: VEHICLE ACCIDENT -\n",
      "2: Traffic: VEHICLE ACCIDENT -\n",
      "3: Traffic: VEHICLE ACCIDENT -\n",
      "4: Traffic: VEHICLE ACCIDENT -\n",
      "5: Traffic: VEHICLE ACCIDENT -\n",
      "6: Traffic: VEHICLE ACCIDENT -\n",
      "7: Traffic: VEHICLE ACCIDENT -\n",
      "8: Traffic: VEHICLE ACCIDENT -\n",
      "9: Traffic: VEHICLE ACCIDENT -\n",
      "10: Traffic: VEHICLE ACCIDENT -\n",
      "11: Traffic: VEHICLE ACCIDENT -\n",
      "12: Traffic: VEHICLE ACCIDENT -\n"
     ]
    }
   ],
   "source": [
    "# compare reasons people called based on day, month\n",
    "\n",
    "df['timeStamp'] = pd.to_datetime(df['timeStamp'])\n",
    "df['Day'] = df['timeStamp'].dt.day\n",
    "df['Month'] = df['timeStamp'].dt.month\n",
    "top_reasons_day = df.groupby('Day')['title'].value_counts().unstack().fillna(0)\n",
    "#print(top_reasons_day.head())\n",
    "top_reasons_month = df.groupby('Month')['title'].value_counts().unstack().fillna(0)\n",
    "top_reason_per_day = top_reasons_day.idxmax(axis=1)\n",
    "top_reason_per_month = top_reasons_month.idxmax(axis=1)\n",
    "\n",
    "print(\"Top Reason Per Day:\")\n",
    "for day, reason in top_reason_per_day.items():\n",
    "    print(f\"{day}: {reason}\")\n",
    "\n",
    "print(\"\\nTop Reason Per Month:\")\n",
    "for month, reason in top_reason_per_month.items():\n",
    "    print(f\"{month}: {reason}\")\n",
    "\n",
    "\n"
   ]
  },
  {
   "cell_type": "markdown",
   "metadata": {},
   "source": [
    "## Creating new features"
   ]
  },
  {
   "cell_type": "markdown",
   "metadata": {},
   "source": [
    "** In the titles column there are \"Reasons/Departments\" specified before the title code. These are EMS, Fire, and Traffic. Use .apply() with a custom lambda expression to create a new column called \"Reason\" that contains this string value.** \n",
    "\n",
    "**For example, if the title column value is EMS: BACK PAINS/INJURY , the Reason column value would be EMS. **"
   ]
  },
  {
   "cell_type": "code",
   "execution_count": null,
   "metadata": {},
   "outputs": [],
   "source": []
  },
  {
   "cell_type": "markdown",
   "metadata": {},
   "source": [
    "** What is the most common Reason for a 911 call based on this new column? **"
   ]
  },
  {
   "cell_type": "code",
   "execution_count": null,
   "metadata": {},
   "outputs": [],
   "source": []
  },
  {
   "cell_type": "markdown",
   "metadata": {},
   "source": [
    "** Now use seaborn to create a countplot of 911 calls by Reason. **"
   ]
  },
  {
   "cell_type": "code",
   "execution_count": null,
   "metadata": {},
   "outputs": [],
   "source": []
  },
  {
   "cell_type": "markdown",
   "metadata": {},
   "source": [
    "## lambda function"
   ]
  },
  {
   "cell_type": "markdown",
   "metadata": {},
   "source": [
    "The lambda function lambda time: time.hour takes a time object as input (assuming you're working with Python's datetime module) and returns the hour component of the input time. This is useful when you want to extract just the hour information from a datetime object.\n",
    "\n",
    "Here's an example of how you can use this lambda function:\n",
    "\n"
   ]
  },
  {
   "cell_type": "code",
   "execution_count": null,
   "metadata": {},
   "outputs": [],
   "source": [
    "python\n",
    "Copy code\n",
    "from datetime import datetime\n",
    "\n",
    "# Create a datetime object\n",
    "timestamp = datetime(2023, 11, 11, 15, 30, 0)  # November 11, 2023, 3:30 PM\n",
    "\n",
    "# Apply the lambda function to extract the hour\n",
    "hour = (lambda time: time.hour)(timestamp)\n",
    "\n",
    "print(hour)\n",
    "\n",
    "Result: 15 in this case, representing 3:00 PM"
   ]
  },
  {
   "cell_type": "markdown",
   "metadata": {},
   "source": [
    "## apply() Function"
   ]
  },
  {
   "cell_type": "markdown",
   "metadata": {},
   "source": [
    "The apply() function in Python is a method that allows you to apply a function along the axes (either rows or columns) of a DataFrame or Series in libraries like Pandas. It is a fundamental tool for data manipulation and transformation. The general syntax for apply() is as follows:\n",
    "\n",
    "DataFrame.apply(func, axis=0)\n",
    "func: The function you want to apply to each row (if axis=1) or each column (if axis=0) of the DataFrame. This function can be a built-in Python function, a user-defined function, or a lambda function.\n",
    "\n",
    "axis: Specifies the axis along which the function should be applied. Use axis=0 for columns (default) and axis=1 for rows.\n",
    "Here are some common use cases for the apply() function:\n",
    "\n",
    "Applying a Function to Each Column or Row:\n"
   ]
  },
  {
   "cell_type": "markdown",
   "metadata": {},
   "source": [
    "** Now let us begin to focus on time information. What is the data type of the objects in the timeStamp column? **"
   ]
  },
  {
   "cell_type": "code",
   "execution_count": null,
   "metadata": {},
   "outputs": [],
   "source": [
    "df['timeStamp'] = pd.to_datetime(df['timeStamp'])\n",
    "df.head(5)"
   ]
  },
  {
   "cell_type": "code",
   "execution_count": null,
   "metadata": {},
   "outputs": [],
   "source": [
    "df['Hour'] = df['timeStamp'].apply(lambda time: time.hour)\n",
    "df['Month'] = df['timeStamp'].apply(lambda time: time.month)\n",
    "df['Day'] = df['timeStamp'].apply(lambda time: time.day)\n",
    "df['Day of Week'] = df['timeStamp'].apply(lambda time: time.dayofweek)\n",
    "df.head(30)"
   ]
  },
  {
   "cell_type": "markdown",
   "metadata": {},
   "source": [
    "** Notice how the Day of Week is an integer 0-6. Use the .map() with this dictionary to map the actual string names to the day of the week: **\n",
    "\n",
    "    dmap = {0:'Mon',1:'Tue',2:'Wed',3:'Thu',4:'Fri',5:'Sat',6:'Sun'}"
   ]
  },
  {
   "cell_type": "code",
   "execution_count": 21,
   "metadata": {},
   "outputs": [],
   "source": []
  },
  {
   "cell_type": "code",
   "execution_count": null,
   "metadata": {},
   "outputs": [],
   "source": []
  },
  {
   "cell_type": "markdown",
   "metadata": {},
   "source": [
    "** Now use seaborn to create a countplot of the Day of Week column with the hue based off of the Reason column. **"
   ]
  },
  {
   "cell_type": "code",
   "execution_count": null,
   "metadata": {},
   "outputs": [],
   "source": [
    "\n",
    "\n"
   ]
  },
  {
   "cell_type": "markdown",
   "metadata": {},
   "source": [
    "** Now do the same for Month:**"
   ]
  },
  {
   "cell_type": "code",
   "execution_count": null,
   "metadata": {},
   "outputs": [],
   "source": []
  },
  {
   "cell_type": "markdown",
   "metadata": {},
   "source": [
    "**Create a new column called 'Date' that contains the date from the timeStamp column. You'll need to use apply along with the .date() method. ** "
   ]
  },
  {
   "cell_type": "code",
   "execution_count": null,
   "metadata": {},
   "outputs": [],
   "source": []
  },
  {
   "cell_type": "markdown",
   "metadata": {},
   "source": [
    "** Now recreate this plot but create 3 separate plots with each plot representing a Reason for the 911 call**"
   ]
  },
  {
   "cell_type": "code",
   "execution_count": null,
   "metadata": {},
   "outputs": [],
   "source": []
  }
 ],
 "metadata": {
  "kernelspec": {
   "display_name": "Python 3 (ipykernel)",
   "language": "python",
   "name": "python3"
  },
  "language_info": {
   "codemirror_mode": {
    "name": "ipython",
    "version": 3
   },
   "file_extension": ".py",
   "mimetype": "text/x-python",
   "name": "python",
   "nbconvert_exporter": "python",
   "pygments_lexer": "ipython3",
   "version": "3.8.5"
  }
 },
 "nbformat": 4,
 "nbformat_minor": 4
}
