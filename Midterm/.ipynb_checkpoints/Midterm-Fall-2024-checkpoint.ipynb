{
 "cells": [
  {
   "cell_type": "markdown",
   "metadata": {},
   "source": [
    "# Midterm"
   ]
  },
  {
   "cell_type": "markdown",
   "metadata": {},
   "source": [
    "- Name: Daniel Mehta\n",
    "- Student Number: n01753264"
   ]
  },
  {
   "cell_type": "markdown",
   "metadata": {},
   "source": [
    "#### Example1: (2 Mark)\n",
    "Given a NumPy array arr, return an array containing the second column from all rows."
   ]
  },
  {
   "cell_type": "code",
   "execution_count": 4,
   "metadata": {},
   "outputs": [],
   "source": [
    "import numpy as np"
   ]
  },
  {
   "cell_type": "code",
   "execution_count": 6,
   "metadata": {},
   "outputs": [],
   "source": [
    "arr = np.array([[11, 12, 13, 14],\n",
    "                [21, 22, 23, 24],\n",
    "                [31, 32, 33, 34]])"
   ]
  },
  {
   "cell_type": "code",
   "execution_count": 9,
   "metadata": {},
   "outputs": [
    {
     "name": "stdout",
     "output_type": "stream",
     "text": [
      "[12 22 32]\n"
     ]
    }
   ],
   "source": [
    "print(arr[:, 1])"
   ]
  },
  {
   "cell_type": "markdown",
   "metadata": {},
   "source": [
    "#### Example2: (2 Mark)\n",
    "* 1.Generate a random 4x6 matrix and compute the sum of all its elements.\n",
    "* 2.Create a 3x3 identity matrix and replace all its diagonal elements with the square of their respective row indices.\n",
    "   "
   ]
  },
  {
   "cell_type": "code",
   "execution_count": 13,
   "metadata": {},
   "outputs": [
    {
     "name": "stdout",
     "output_type": "stream",
     "text": [
      "Random 4x6 matrix:\n",
      " [[0.16593039 0.12679387 0.60459173 0.47702262 0.735445   0.91850412]\n",
      " [0.7569896  0.6257445  0.44055711 0.90933904 0.76031862 0.87498443]\n",
      " [0.22237977 0.06524177 0.89814257 0.80183416 0.90707513 0.81925016]\n",
      " [0.71386474 0.65981673 0.76920525 0.75725548 0.38024607 0.37947976]]\n",
      "Sum of all elements: 14.770012624542646\n"
     ]
    }
   ],
   "source": [
    "#Task 1\n",
    "matrix = np.random.rand(4,6)\n",
    "matrix_sum = np.sum(matrix)\n",
    "print(\"Random 4x6 matrix:\\n\", matrix)\n",
    "print(\"Sum of all elements:\", matrix_sum)\n"
   ]
  },
  {
   "cell_type": "code",
   "execution_count": 19,
   "metadata": {},
   "outputs": [
    {
     "name": "stdout",
     "output_type": "stream",
     "text": [
      "3x3 identity matrix:\n",
      " [[0. 0. 0.]\n",
      " [0. 1. 0.]\n",
      " [0. 0. 4.]]\n"
     ]
    }
   ],
   "source": [
    "#Task 2\n",
    "identity_matrix=np.eye(3)\n",
    "\n",
    "for i in range(3):\n",
    "    identity_matrix[i,i] = i **2\n",
    "\n",
    "print(\"3x3 identity matrix:\\n\", identity_matrix)"
   ]
  },
  {
   "cell_type": "markdown",
   "metadata": {},
   "source": [
    "#### Example3:(3 Mark)\n",
    "Create a figure with three subplots arranged horizontally. Plot the following in each subplot:\n",
    "\n",
    "1. A scatter plot of 50 random points where x values are generated from a normal distribution (mean=0, std=1) and y values from a uniform distribution (range=[0, 1]).\n",
    "2. A histogram of 1000 random numbers generated from a normal distribution.\n",
    "3. A line plot of the function y=x over the interval [-3, 3]."
   ]
  },
  {
   "cell_type": "code",
   "execution_count": null,
   "metadata": {},
   "outputs": [],
   "source": []
  },
  {
   "cell_type": "markdown",
   "metadata": {},
   "source": [
    "#### Example4:(8 Mark)\n",
    "Analyze the dataset and answer questions below."
   ]
  },
  {
   "cell_type": "markdown",
   "metadata": {},
   "source": [
    "Dataset Information\n",
    "* gender: sex of students -> (Male/female)\n",
    "* race/ethnicity: ethnicity of students -> (Group A, B, C, D, E)\n",
    "* parental level of education: parents’ final education ->(bachelor’s degree, some college, master’s degree, associate’s degree)\n",
    "* lunch: having lunch before test (standard or free/reduced)\n",
    "* test preparation course: complete or not complete before test\n",
    "* math score\n",
    "* reading score\n",
    "* writing score\n",
    "\n"
   ]
  },
  {
   "cell_type": "markdown",
   "metadata": {},
   "source": [
    "1. Read a CSV dataset and create a DataFrame from it.\n",
    "2. Check Missing values\n",
    "3. Check Duplicates\n",
    "4. Check data type\n",
    "5. Calculate and display the correlation coefficient between math and reading score.and Plot a scatter plot to visualize the relationship between students' scores in Math and Reading.\n",
    "6. Check various categories present in the different categorical column\n",
    "7. Create a bar chart showing the average scores of students in each subject.\n",
    "8. Is gender has any impact on student’s performance?\n",
    "9. Can we predict a student's performance in Reading based on their scores in Math and Writing?\n",
    "10. What factors (such as parental level of education or test preparation) seem to influence student scores the most?\n"
   ]
  },
  {
   "cell_type": "code",
   "execution_count": null,
   "metadata": {},
   "outputs": [],
   "source": []
  }
 ],
 "metadata": {
  "kernelspec": {
   "display_name": "Python [conda env:base] *",
   "language": "python",
   "name": "conda-base-py"
  },
  "language_info": {
   "codemirror_mode": {
    "name": "ipython",
    "version": 3
   },
   "file_extension": ".py",
   "mimetype": "text/x-python",
   "name": "python",
   "nbconvert_exporter": "python",
   "pygments_lexer": "ipython3",
   "version": "3.12.7"
  }
 },
 "nbformat": 4,
 "nbformat_minor": 4
}
